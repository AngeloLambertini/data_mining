{
 "cells": [
  {
   "cell_type": "markdown",
   "id": "3ac59fd8",
   "metadata": {},
   "source": [
    "### PROBLEM 6.1.\n",
    "The file BostonHousing.csv contains\n",
    "information collected by the US Bureau of the Census concerning housing in the\n",
    "area of Boston, Massachusetts. The dataset includes information on 506 census\n",
    "housing tracts in the Boston area. The goal is to predict the median house price in\n",
    "new tracts based on information such as crime rate, pollution, and number of\n",
    "rooms. The dataset contains 13 predictors, and the outcome variable is the median\n",
    "house price (MEDV). Table 6.11 describes each of the predictors and the outcome\n",
    "variable.\n",
    "- a. Why should the data be partitioned into training and validation sets? What\n",
    "will the training set be used for? What will the validation set be used for?\n",
    "- b. Fit a multiple linear regression model to the median house price (MEDV) as a\n",
    "function of CRIM, CHAS, and RM. Write the equation for predicting the\n",
    "median house price from the predictors in the model.\n",
    "- c. Using the estimated regression model, what median house price is predicted\n",
    "for a tract in the Boston area that does not bound the Charles River, has a\n",
    "crime rate of 0.1, and where the average number of rooms per house is 6?\n",
    "- d. Reduce the number of predictors:\n",
    "-- i. Which predictors are likely to be measuring the same thing among the 13\n",
    "predictors? Discuss the relationships among INDUS, NOX, and TAX.\n",
    "-- ii. Compute the correlation table for the 12 numerical predictors and search\n",
    "for highly correlated pairs. These have potential redundancy and can\n",
    "cause multicollinearity. Choose which ones to remove based on this table.\n",
    "-- iii. Use three subset selection algorithms: backward, forward, and\n",
    "stepwise) to reduce the remaining predictors. Compute the validation\n",
    "performance for each of the three selected models. Compare RMSE,\n",
    "MAPE, and mean error, as well as histograms of the errors. Finally,\n",
    "describe the best model."
   ]
  },
  {
   "cell_type": "markdown",
   "id": "12777da0",
   "metadata": {},
   "source": [
    "a) Partitioning the data into traning and validation sets is a crucial step in the process of developing a predictive model. The training set will be used to train and develop the model, the model will thus learn from the data how to tune its parameters. The validation set will then be used at the end of the training process to evaluate the model's performance and fine-tune its parameters by a repeated analysis of the validation set. It's important to have both parts so we can be sure to try our model on data that are new for it but that we know well and evaluate its predictive potential."
   ]
  },
  {
   "cell_type": "markdown",
   "id": "ef35c1c9",
   "metadata": {},
   "source": [
    "b) Fit a multiple linear regression model to the median house price (MEDV) as a\n",
    "function of CRIM, CHAS, and RM"
   ]
  },
  {
   "cell_type": "code",
   "execution_count": 79,
   "id": "42d4497c",
   "metadata": {},
   "outputs": [],
   "source": [
    "import numpy as np\n",
    "import pandas as pd\n",
    "from sklearn.model_selection import train_test_split\n",
    "from sklearn.metrics import r2_score\n",
    "from sklearn.linear_model import LinearRegression, Lasso, Ridge, LassoCV, BayesianRidge\n",
    "import statsmodels.formula.api as sm\n",
    "import matplotlib.pylab as plt\n",
    "from dmba import regressionSummary, exhaustive_search\n",
    "from dmba import backward_elimination, forward_selection, stepwise_selection\n",
    "from dmba import adjusted_r2_score, AIC_score, BIC_score"
   ]
  },
  {
   "cell_type": "code",
   "execution_count": 80,
   "id": "63432896",
   "metadata": {},
   "outputs": [],
   "source": [
    "bh_df = pd.read_csv(\"BostonHousing.csv\")"
   ]
  },
  {
   "cell_type": "code",
   "execution_count": 81,
   "id": "a37fdfbd",
   "metadata": {},
   "outputs": [
    {
     "data": {
      "text/html": [
       "<div>\n",
       "<style scoped>\n",
       "    .dataframe tbody tr th:only-of-type {\n",
       "        vertical-align: middle;\n",
       "    }\n",
       "\n",
       "    .dataframe tbody tr th {\n",
       "        vertical-align: top;\n",
       "    }\n",
       "\n",
       "    .dataframe thead th {\n",
       "        text-align: right;\n",
       "    }\n",
       "</style>\n",
       "<table border=\"1\" class=\"dataframe\">\n",
       "  <thead>\n",
       "    <tr style=\"text-align: right;\">\n",
       "      <th></th>\n",
       "      <th>CRIM</th>\n",
       "      <th>ZN</th>\n",
       "      <th>INDUS</th>\n",
       "      <th>CHAS</th>\n",
       "      <th>NOX</th>\n",
       "      <th>RM</th>\n",
       "      <th>AGE</th>\n",
       "      <th>DIS</th>\n",
       "      <th>RAD</th>\n",
       "      <th>TAX</th>\n",
       "      <th>PTRATIO</th>\n",
       "      <th>LSTAT</th>\n",
       "      <th>MEDV</th>\n",
       "      <th>CAT. MEDV</th>\n",
       "    </tr>\n",
       "  </thead>\n",
       "  <tbody>\n",
       "    <tr>\n",
       "      <th>0</th>\n",
       "      <td>0.00632</td>\n",
       "      <td>18.0</td>\n",
       "      <td>2.31</td>\n",
       "      <td>0</td>\n",
       "      <td>0.538</td>\n",
       "      <td>6.575</td>\n",
       "      <td>65.2</td>\n",
       "      <td>4.0900</td>\n",
       "      <td>1</td>\n",
       "      <td>296</td>\n",
       "      <td>15.3</td>\n",
       "      <td>4.98</td>\n",
       "      <td>24.0</td>\n",
       "      <td>0</td>\n",
       "    </tr>\n",
       "    <tr>\n",
       "      <th>1</th>\n",
       "      <td>0.02731</td>\n",
       "      <td>0.0</td>\n",
       "      <td>7.07</td>\n",
       "      <td>0</td>\n",
       "      <td>0.469</td>\n",
       "      <td>6.421</td>\n",
       "      <td>78.9</td>\n",
       "      <td>4.9671</td>\n",
       "      <td>2</td>\n",
       "      <td>242</td>\n",
       "      <td>17.8</td>\n",
       "      <td>9.14</td>\n",
       "      <td>21.6</td>\n",
       "      <td>0</td>\n",
       "    </tr>\n",
       "    <tr>\n",
       "      <th>2</th>\n",
       "      <td>0.02729</td>\n",
       "      <td>0.0</td>\n",
       "      <td>7.07</td>\n",
       "      <td>0</td>\n",
       "      <td>0.469</td>\n",
       "      <td>7.185</td>\n",
       "      <td>61.1</td>\n",
       "      <td>4.9671</td>\n",
       "      <td>2</td>\n",
       "      <td>242</td>\n",
       "      <td>17.8</td>\n",
       "      <td>4.03</td>\n",
       "      <td>34.7</td>\n",
       "      <td>1</td>\n",
       "    </tr>\n",
       "    <tr>\n",
       "      <th>3</th>\n",
       "      <td>0.03237</td>\n",
       "      <td>0.0</td>\n",
       "      <td>2.18</td>\n",
       "      <td>0</td>\n",
       "      <td>0.458</td>\n",
       "      <td>6.998</td>\n",
       "      <td>45.8</td>\n",
       "      <td>6.0622</td>\n",
       "      <td>3</td>\n",
       "      <td>222</td>\n",
       "      <td>18.7</td>\n",
       "      <td>2.94</td>\n",
       "      <td>33.4</td>\n",
       "      <td>1</td>\n",
       "    </tr>\n",
       "    <tr>\n",
       "      <th>4</th>\n",
       "      <td>0.06905</td>\n",
       "      <td>0.0</td>\n",
       "      <td>2.18</td>\n",
       "      <td>0</td>\n",
       "      <td>0.458</td>\n",
       "      <td>7.147</td>\n",
       "      <td>54.2</td>\n",
       "      <td>6.0622</td>\n",
       "      <td>3</td>\n",
       "      <td>222</td>\n",
       "      <td>18.7</td>\n",
       "      <td>5.33</td>\n",
       "      <td>36.2</td>\n",
       "      <td>1</td>\n",
       "    </tr>\n",
       "    <tr>\n",
       "      <th>...</th>\n",
       "      <td>...</td>\n",
       "      <td>...</td>\n",
       "      <td>...</td>\n",
       "      <td>...</td>\n",
       "      <td>...</td>\n",
       "      <td>...</td>\n",
       "      <td>...</td>\n",
       "      <td>...</td>\n",
       "      <td>...</td>\n",
       "      <td>...</td>\n",
       "      <td>...</td>\n",
       "      <td>...</td>\n",
       "      <td>...</td>\n",
       "      <td>...</td>\n",
       "    </tr>\n",
       "    <tr>\n",
       "      <th>501</th>\n",
       "      <td>0.06263</td>\n",
       "      <td>0.0</td>\n",
       "      <td>11.93</td>\n",
       "      <td>0</td>\n",
       "      <td>0.573</td>\n",
       "      <td>6.593</td>\n",
       "      <td>69.1</td>\n",
       "      <td>2.4786</td>\n",
       "      <td>1</td>\n",
       "      <td>273</td>\n",
       "      <td>21.0</td>\n",
       "      <td>9.67</td>\n",
       "      <td>22.4</td>\n",
       "      <td>0</td>\n",
       "    </tr>\n",
       "    <tr>\n",
       "      <th>502</th>\n",
       "      <td>0.04527</td>\n",
       "      <td>0.0</td>\n",
       "      <td>11.93</td>\n",
       "      <td>0</td>\n",
       "      <td>0.573</td>\n",
       "      <td>6.120</td>\n",
       "      <td>76.7</td>\n",
       "      <td>2.2875</td>\n",
       "      <td>1</td>\n",
       "      <td>273</td>\n",
       "      <td>21.0</td>\n",
       "      <td>9.08</td>\n",
       "      <td>20.6</td>\n",
       "      <td>0</td>\n",
       "    </tr>\n",
       "    <tr>\n",
       "      <th>503</th>\n",
       "      <td>0.06076</td>\n",
       "      <td>0.0</td>\n",
       "      <td>11.93</td>\n",
       "      <td>0</td>\n",
       "      <td>0.573</td>\n",
       "      <td>6.976</td>\n",
       "      <td>91.0</td>\n",
       "      <td>2.1675</td>\n",
       "      <td>1</td>\n",
       "      <td>273</td>\n",
       "      <td>21.0</td>\n",
       "      <td>5.64</td>\n",
       "      <td>23.9</td>\n",
       "      <td>0</td>\n",
       "    </tr>\n",
       "    <tr>\n",
       "      <th>504</th>\n",
       "      <td>0.10959</td>\n",
       "      <td>0.0</td>\n",
       "      <td>11.93</td>\n",
       "      <td>0</td>\n",
       "      <td>0.573</td>\n",
       "      <td>6.794</td>\n",
       "      <td>89.3</td>\n",
       "      <td>2.3889</td>\n",
       "      <td>1</td>\n",
       "      <td>273</td>\n",
       "      <td>21.0</td>\n",
       "      <td>6.48</td>\n",
       "      <td>22.0</td>\n",
       "      <td>0</td>\n",
       "    </tr>\n",
       "    <tr>\n",
       "      <th>505</th>\n",
       "      <td>0.04741</td>\n",
       "      <td>0.0</td>\n",
       "      <td>11.93</td>\n",
       "      <td>0</td>\n",
       "      <td>0.573</td>\n",
       "      <td>6.030</td>\n",
       "      <td>80.8</td>\n",
       "      <td>2.5050</td>\n",
       "      <td>1</td>\n",
       "      <td>273</td>\n",
       "      <td>21.0</td>\n",
       "      <td>7.88</td>\n",
       "      <td>11.9</td>\n",
       "      <td>0</td>\n",
       "    </tr>\n",
       "  </tbody>\n",
       "</table>\n",
       "<p>506 rows × 14 columns</p>\n",
       "</div>"
      ],
      "text/plain": [
       "        CRIM    ZN  INDUS  CHAS    NOX     RM   AGE     DIS  RAD  TAX  \\\n",
       "0    0.00632  18.0   2.31     0  0.538  6.575  65.2  4.0900    1  296   \n",
       "1    0.02731   0.0   7.07     0  0.469  6.421  78.9  4.9671    2  242   \n",
       "2    0.02729   0.0   7.07     0  0.469  7.185  61.1  4.9671    2  242   \n",
       "3    0.03237   0.0   2.18     0  0.458  6.998  45.8  6.0622    3  222   \n",
       "4    0.06905   0.0   2.18     0  0.458  7.147  54.2  6.0622    3  222   \n",
       "..       ...   ...    ...   ...    ...    ...   ...     ...  ...  ...   \n",
       "501  0.06263   0.0  11.93     0  0.573  6.593  69.1  2.4786    1  273   \n",
       "502  0.04527   0.0  11.93     0  0.573  6.120  76.7  2.2875    1  273   \n",
       "503  0.06076   0.0  11.93     0  0.573  6.976  91.0  2.1675    1  273   \n",
       "504  0.10959   0.0  11.93     0  0.573  6.794  89.3  2.3889    1  273   \n",
       "505  0.04741   0.0  11.93     0  0.573  6.030  80.8  2.5050    1  273   \n",
       "\n",
       "     PTRATIO  LSTAT  MEDV  CAT. MEDV  \n",
       "0       15.3   4.98  24.0          0  \n",
       "1       17.8   9.14  21.6          0  \n",
       "2       17.8   4.03  34.7          1  \n",
       "3       18.7   2.94  33.4          1  \n",
       "4       18.7   5.33  36.2          1  \n",
       "..       ...    ...   ...        ...  \n",
       "501     21.0   9.67  22.4          0  \n",
       "502     21.0   9.08  20.6          0  \n",
       "503     21.0   5.64  23.9          0  \n",
       "504     21.0   6.48  22.0          0  \n",
       "505     21.0   7.88  11.9          0  \n",
       "\n",
       "[506 rows x 14 columns]"
      ]
     },
     "execution_count": 81,
     "metadata": {},
     "output_type": "execute_result"
    }
   ],
   "source": [
    "bh_df"
   ]
  },
  {
   "cell_type": "code",
   "execution_count": 82,
   "id": "b7777b79",
   "metadata": {},
   "outputs": [
    {
     "data": {
      "text/html": [
       "<div>\n",
       "<style scoped>\n",
       "    .dataframe tbody tr th:only-of-type {\n",
       "        vertical-align: middle;\n",
       "    }\n",
       "\n",
       "    .dataframe tbody tr th {\n",
       "        vertical-align: top;\n",
       "    }\n",
       "\n",
       "    .dataframe thead th {\n",
       "        text-align: right;\n",
       "    }\n",
       "</style>\n",
       "<table border=\"1\" class=\"dataframe\">\n",
       "  <thead>\n",
       "    <tr style=\"text-align: right;\">\n",
       "      <th></th>\n",
       "      <th>CRIM</th>\n",
       "      <th>ZN</th>\n",
       "      <th>INDUS</th>\n",
       "      <th>CHAS</th>\n",
       "      <th>NOX</th>\n",
       "      <th>RM</th>\n",
       "      <th>AGE</th>\n",
       "      <th>DIS</th>\n",
       "      <th>RAD</th>\n",
       "      <th>TAX</th>\n",
       "      <th>PTRATIO</th>\n",
       "      <th>LSTAT</th>\n",
       "      <th>MEDV</th>\n",
       "      <th>CAT. MEDV</th>\n",
       "    </tr>\n",
       "  </thead>\n",
       "  <tbody>\n",
       "    <tr>\n",
       "      <th>count</th>\n",
       "      <td>506.000000</td>\n",
       "      <td>506.000000</td>\n",
       "      <td>506.000000</td>\n",
       "      <td>506.000000</td>\n",
       "      <td>506.000000</td>\n",
       "      <td>506.000000</td>\n",
       "      <td>506.000000</td>\n",
       "      <td>506.000000</td>\n",
       "      <td>506.000000</td>\n",
       "      <td>506.000000</td>\n",
       "      <td>506.000000</td>\n",
       "      <td>506.000000</td>\n",
       "      <td>506.000000</td>\n",
       "      <td>506.000000</td>\n",
       "    </tr>\n",
       "    <tr>\n",
       "      <th>mean</th>\n",
       "      <td>3.613524</td>\n",
       "      <td>11.363636</td>\n",
       "      <td>11.136779</td>\n",
       "      <td>0.069170</td>\n",
       "      <td>0.554695</td>\n",
       "      <td>6.284634</td>\n",
       "      <td>68.574901</td>\n",
       "      <td>3.795043</td>\n",
       "      <td>9.549407</td>\n",
       "      <td>408.237154</td>\n",
       "      <td>18.455534</td>\n",
       "      <td>12.653063</td>\n",
       "      <td>22.532806</td>\n",
       "      <td>0.166008</td>\n",
       "    </tr>\n",
       "    <tr>\n",
       "      <th>std</th>\n",
       "      <td>8.601545</td>\n",
       "      <td>23.322453</td>\n",
       "      <td>6.860353</td>\n",
       "      <td>0.253994</td>\n",
       "      <td>0.115878</td>\n",
       "      <td>0.702617</td>\n",
       "      <td>28.148861</td>\n",
       "      <td>2.105710</td>\n",
       "      <td>8.707259</td>\n",
       "      <td>168.537116</td>\n",
       "      <td>2.164946</td>\n",
       "      <td>7.141062</td>\n",
       "      <td>9.197104</td>\n",
       "      <td>0.372456</td>\n",
       "    </tr>\n",
       "    <tr>\n",
       "      <th>min</th>\n",
       "      <td>0.006320</td>\n",
       "      <td>0.000000</td>\n",
       "      <td>0.460000</td>\n",
       "      <td>0.000000</td>\n",
       "      <td>0.385000</td>\n",
       "      <td>3.561000</td>\n",
       "      <td>2.900000</td>\n",
       "      <td>1.129600</td>\n",
       "      <td>1.000000</td>\n",
       "      <td>187.000000</td>\n",
       "      <td>12.600000</td>\n",
       "      <td>1.730000</td>\n",
       "      <td>5.000000</td>\n",
       "      <td>0.000000</td>\n",
       "    </tr>\n",
       "    <tr>\n",
       "      <th>25%</th>\n",
       "      <td>0.082045</td>\n",
       "      <td>0.000000</td>\n",
       "      <td>5.190000</td>\n",
       "      <td>0.000000</td>\n",
       "      <td>0.449000</td>\n",
       "      <td>5.885500</td>\n",
       "      <td>45.025000</td>\n",
       "      <td>2.100175</td>\n",
       "      <td>4.000000</td>\n",
       "      <td>279.000000</td>\n",
       "      <td>17.400000</td>\n",
       "      <td>6.950000</td>\n",
       "      <td>17.025000</td>\n",
       "      <td>0.000000</td>\n",
       "    </tr>\n",
       "    <tr>\n",
       "      <th>50%</th>\n",
       "      <td>0.256510</td>\n",
       "      <td>0.000000</td>\n",
       "      <td>9.690000</td>\n",
       "      <td>0.000000</td>\n",
       "      <td>0.538000</td>\n",
       "      <td>6.208500</td>\n",
       "      <td>77.500000</td>\n",
       "      <td>3.207450</td>\n",
       "      <td>5.000000</td>\n",
       "      <td>330.000000</td>\n",
       "      <td>19.050000</td>\n",
       "      <td>11.360000</td>\n",
       "      <td>21.200000</td>\n",
       "      <td>0.000000</td>\n",
       "    </tr>\n",
       "    <tr>\n",
       "      <th>75%</th>\n",
       "      <td>3.677083</td>\n",
       "      <td>12.500000</td>\n",
       "      <td>18.100000</td>\n",
       "      <td>0.000000</td>\n",
       "      <td>0.624000</td>\n",
       "      <td>6.623500</td>\n",
       "      <td>94.075000</td>\n",
       "      <td>5.188425</td>\n",
       "      <td>24.000000</td>\n",
       "      <td>666.000000</td>\n",
       "      <td>20.200000</td>\n",
       "      <td>16.955000</td>\n",
       "      <td>25.000000</td>\n",
       "      <td>0.000000</td>\n",
       "    </tr>\n",
       "    <tr>\n",
       "      <th>max</th>\n",
       "      <td>88.976200</td>\n",
       "      <td>100.000000</td>\n",
       "      <td>27.740000</td>\n",
       "      <td>1.000000</td>\n",
       "      <td>0.871000</td>\n",
       "      <td>8.780000</td>\n",
       "      <td>100.000000</td>\n",
       "      <td>12.126500</td>\n",
       "      <td>24.000000</td>\n",
       "      <td>711.000000</td>\n",
       "      <td>22.000000</td>\n",
       "      <td>37.970000</td>\n",
       "      <td>50.000000</td>\n",
       "      <td>1.000000</td>\n",
       "    </tr>\n",
       "  </tbody>\n",
       "</table>\n",
       "</div>"
      ],
      "text/plain": [
       "             CRIM          ZN       INDUS        CHAS         NOX          RM  \\\n",
       "count  506.000000  506.000000  506.000000  506.000000  506.000000  506.000000   \n",
       "mean     3.613524   11.363636   11.136779    0.069170    0.554695    6.284634   \n",
       "std      8.601545   23.322453    6.860353    0.253994    0.115878    0.702617   \n",
       "min      0.006320    0.000000    0.460000    0.000000    0.385000    3.561000   \n",
       "25%      0.082045    0.000000    5.190000    0.000000    0.449000    5.885500   \n",
       "50%      0.256510    0.000000    9.690000    0.000000    0.538000    6.208500   \n",
       "75%      3.677083   12.500000   18.100000    0.000000    0.624000    6.623500   \n",
       "max     88.976200  100.000000   27.740000    1.000000    0.871000    8.780000   \n",
       "\n",
       "              AGE         DIS         RAD         TAX     PTRATIO       LSTAT  \\\n",
       "count  506.000000  506.000000  506.000000  506.000000  506.000000  506.000000   \n",
       "mean    68.574901    3.795043    9.549407  408.237154   18.455534   12.653063   \n",
       "std     28.148861    2.105710    8.707259  168.537116    2.164946    7.141062   \n",
       "min      2.900000    1.129600    1.000000  187.000000   12.600000    1.730000   \n",
       "25%     45.025000    2.100175    4.000000  279.000000   17.400000    6.950000   \n",
       "50%     77.500000    3.207450    5.000000  330.000000   19.050000   11.360000   \n",
       "75%     94.075000    5.188425   24.000000  666.000000   20.200000   16.955000   \n",
       "max    100.000000   12.126500   24.000000  711.000000   22.000000   37.970000   \n",
       "\n",
       "             MEDV   CAT. MEDV  \n",
       "count  506.000000  506.000000  \n",
       "mean    22.532806    0.166008  \n",
       "std      9.197104    0.372456  \n",
       "min      5.000000    0.000000  \n",
       "25%     17.025000    0.000000  \n",
       "50%     21.200000    0.000000  \n",
       "75%     25.000000    0.000000  \n",
       "max     50.000000    1.000000  "
      ]
     },
     "execution_count": 82,
     "metadata": {},
     "output_type": "execute_result"
    }
   ],
   "source": [
    "bh_df.describe()"
   ]
  },
  {
   "cell_type": "code",
   "execution_count": 83,
   "id": "1c501e22",
   "metadata": {},
   "outputs": [
    {
     "data": {
      "text/plain": [
       "CRIM         float64\n",
       "ZN           float64\n",
       "INDUS        float64\n",
       "CHAS           int64\n",
       "NOX          float64\n",
       "RM           float64\n",
       "AGE          float64\n",
       "DIS          float64\n",
       "RAD            int64\n",
       "TAX            int64\n",
       "PTRATIO      float64\n",
       "LSTAT        float64\n",
       "MEDV         float64\n",
       "CAT. MEDV      int64\n",
       "dtype: object"
      ]
     },
     "execution_count": 83,
     "metadata": {},
     "output_type": "execute_result"
    }
   ],
   "source": [
    "bh_df.dtypes"
   ]
  },
  {
   "cell_type": "code",
   "execution_count": 84,
   "id": "db74c56c",
   "metadata": {},
   "outputs": [],
   "source": [
    "predictors = ['CRIM','CHAS', 'RM']\n",
    "outcome = 'MEDV'"
   ]
  },
  {
   "cell_type": "code",
   "execution_count": 85,
   "id": "87e3e8be",
   "metadata": {},
   "outputs": [
    {
     "name": "stdout",
     "output_type": "stream",
     "text": [
      "        CRIM  CHAS     RM\n",
      "0    0.00632     0  6.575\n",
      "1    0.02731     0  6.421\n",
      "2    0.02729     0  7.185\n",
      "3    0.03237     0  6.998\n",
      "4    0.06905     0  7.147\n",
      "..       ...   ...    ...\n",
      "501  0.06263     0  6.593\n",
      "502  0.04527     0  6.120\n",
      "503  0.06076     0  6.976\n",
      "504  0.10959     0  6.794\n",
      "505  0.04741     0  6.030\n",
      "\n",
      "[506 rows x 3 columns]\n"
     ]
    }
   ],
   "source": [
    "print(bh_df[predictors])"
   ]
  },
  {
   "cell_type": "code",
   "execution_count": 86,
   "id": "04bd883a",
   "metadata": {},
   "outputs": [],
   "source": [
    "X = bh_df[predictors]\n",
    "y = bh_df[outcome]\n",
    "train_X, valid_X, train_y, valid_y = train_test_split(X, y, test_size=0.4, random_state=1)"
   ]
  },
  {
   "cell_type": "code",
   "execution_count": 87,
   "id": "f083a2df",
   "metadata": {},
   "outputs": [],
   "source": [
    "model = LinearRegression()\n",
    "model.fit(train_X, train_y)\n",
    "\n",
    "train_pred = model.predict(train_X)\n",
    "train_results = pd.DataFrame({\n",
    "    'MEDV': train_y, \n",
    "    'predicted': train_pred, \n",
    "    'residual': train_y - train_pred\n",
    "})"
   ]
  },
  {
   "cell_type": "code",
   "execution_count": 89,
   "id": "1d06b0a4",
   "metadata": {
    "scrolled": true
   },
   "outputs": [
    {
     "data": {
      "text/html": [
       "<div>\n",
       "<style scoped>\n",
       "    .dataframe tbody tr th:only-of-type {\n",
       "        vertical-align: middle;\n",
       "    }\n",
       "\n",
       "    .dataframe tbody tr th {\n",
       "        vertical-align: top;\n",
       "    }\n",
       "\n",
       "    .dataframe thead th {\n",
       "        text-align: right;\n",
       "    }\n",
       "</style>\n",
       "<table border=\"1\" class=\"dataframe\">\n",
       "  <thead>\n",
       "    <tr style=\"text-align: right;\">\n",
       "      <th></th>\n",
       "      <th>MEDV</th>\n",
       "      <th>predicted</th>\n",
       "      <th>residual</th>\n",
       "    </tr>\n",
       "  </thead>\n",
       "  <tbody>\n",
       "    <tr>\n",
       "      <th>452</th>\n",
       "      <td>16.1</td>\n",
       "      <td>22.008204</td>\n",
       "      <td>-5.908204</td>\n",
       "    </tr>\n",
       "    <tr>\n",
       "      <th>346</th>\n",
       "      <td>17.2</td>\n",
       "      <td>19.893624</td>\n",
       "      <td>-2.693624</td>\n",
       "    </tr>\n",
       "    <tr>\n",
       "      <th>295</th>\n",
       "      <td>28.6</td>\n",
       "      <td>26.371008</td>\n",
       "      <td>2.228992</td>\n",
       "    </tr>\n",
       "    <tr>\n",
       "      <th>88</th>\n",
       "      <td>23.6</td>\n",
       "      <td>29.127448</td>\n",
       "      <td>-5.527448</td>\n",
       "    </tr>\n",
       "    <tr>\n",
       "      <th>322</th>\n",
       "      <td>20.4</td>\n",
       "      <td>21.014621</td>\n",
       "      <td>-0.614621</td>\n",
       "    </tr>\n",
       "  </tbody>\n",
       "</table>\n",
       "</div>"
      ],
      "text/plain": [
       "     MEDV  predicted  residual\n",
       "452  16.1  22.008204 -5.908204\n",
       "346  17.2  19.893624 -2.693624\n",
       "295  28.6  26.371008  2.228992\n",
       "88   23.6  29.127448 -5.527448\n",
       "322  20.4  21.014621 -0.614621"
      ]
     },
     "execution_count": 89,
     "metadata": {},
     "output_type": "execute_result"
    }
   ],
   "source": [
    "train_results.head()"
   ]
  },
  {
   "cell_type": "code",
   "execution_count": 88,
   "id": "30019aef",
   "metadata": {},
   "outputs": [
    {
     "name": "stdout",
     "output_type": "stream",
     "text": [
      "intercept  -29.19346743060684\n",
      "  Predictors  coefficient\n",
      "0       CRIM    -0.240062\n",
      "1       CHAS     3.266817\n",
      "2         RM     8.325175\n",
      "\n",
      "Regression statistics\n",
      "\n",
      "                      Mean Error (ME) : -0.0000\n",
      "       Root Mean Squared Error (RMSE) : 5.9666\n",
      "            Mean Absolute Error (MAE) : 3.9668\n",
      "          Mean Percentage Error (MPE) : -7.2747\n",
      "Mean Absolute Percentage Error (MAPE) : 22.5927\n"
     ]
    }
   ],
   "source": [
    "# print coefficients\n",
    "print('intercept ', model.intercept_)\n",
    "print(pd.DataFrame({'Predictors': X.columns, 'coefficient': model.coef_}))\n",
    "\n",
    "# print performance measures\n",
    "regressionSummary(train_y, model.predict(train_X))"
   ]
  },
  {
   "cell_type": "code",
   "execution_count": 90,
   "id": "a8282eff",
   "metadata": {},
   "outputs": [
    {
     "name": "stdout",
     "output_type": "stream",
     "text": [
      "The coefficients of the predictors are:  [-0.24006218  3.26681728  8.3251753 ]\n"
     ]
    }
   ],
   "source": [
    "print(\"The coefficients of the predictors are: \", model.coef_)"
   ]
  },
  {
   "cell_type": "code",
   "execution_count": 91,
   "id": "f08862f3",
   "metadata": {},
   "outputs": [
    {
     "name": "stdout",
     "output_type": "stream",
     "text": [
      "The intercept value is:  -29.19346743060684\n"
     ]
    }
   ],
   "source": [
    "print(\"The intercept value is: \", model.intercept_)"
   ]
  },
  {
   "cell_type": "markdown",
   "id": "4c2f07e4",
   "metadata": {},
   "source": [
    "c) what median house price is predicted for a tract in the Boston area that does not bound the Charles River, has a crime rate of 0.1, and where the average number of rooms per house is 6?"
   ]
  },
  {
   "cell_type": "code",
   "execution_count": 92,
   "id": "87ee5c8d",
   "metadata": {},
   "outputs": [],
   "source": [
    "new_df = pd.DataFrame([[0.1, 0, 6]], columns=['CRIM', 'CHAS', 'RM'])"
   ]
  },
  {
   "cell_type": "code",
   "execution_count": 93,
   "id": "a2f8ddbe",
   "metadata": {},
   "outputs": [
    {
     "name": "stdout",
     "output_type": "stream",
     "text": [
      "   CRIM  CHAS  RM\n",
      "0   0.1     0   6\n"
     ]
    }
   ],
   "source": [
    "print(new_df[predictors])"
   ]
  },
  {
   "cell_type": "code",
   "execution_count": 94,
   "id": "d05d85d7",
   "metadata": {},
   "outputs": [],
   "source": [
    "X = new_df[predictors]"
   ]
  },
  {
   "cell_type": "code",
   "execution_count": 95,
   "id": "02e9ccf7",
   "metadata": {},
   "outputs": [
    {
     "name": "stdout",
     "output_type": "stream",
     "text": [
      "[20.73357813]\n"
     ]
    }
   ],
   "source": [
    "# Use predict() to make predictions on a new set\n",
    "new_df_pred = model.predict(new_df)\n",
    "print(new_df_pred)"
   ]
  },
  {
   "cell_type": "markdown",
   "id": "db713c29",
   "metadata": {},
   "source": [
    "<b>The median house price for the indicated values, based on our model, is $ 20,733.58</b>"
   ]
  },
  {
   "cell_type": "markdown",
   "id": "8f4b2a1b",
   "metadata": {},
   "source": [
    "d - I) Between the 13 predictors, NOX and AGE are likely to be measuring the same part of variation since old buildings are usually more polluting than new buildings and an increase in the average age should imply an increase in the consentration of nitric oxide. Also INDUS and NOX are probaby measuring the same thing since the concentration of nitric oxide depends highly on the concentration of industries in the area. Regarding the relationship among INDUS, NOX and TAX, the first 2 variables should be highly positive correlated and each of them should be positive correlated with TAX."
   ]
  },
  {
   "cell_type": "markdown",
   "id": "9bced7ec",
   "metadata": {},
   "source": [
    "d - II)"
   ]
  },
  {
   "cell_type": "code",
   "execution_count": 96,
   "id": "eda6fead",
   "metadata": {},
   "outputs": [],
   "source": [
    "import seaborn as sns"
   ]
  },
  {
   "cell_type": "code",
   "execution_count": 97,
   "id": "9a1cd594",
   "metadata": {},
   "outputs": [],
   "source": [
    "bh2_df = bh_df.loc[:, bh_df.columns.drop(['MEDV', 'CAT. MEDV'])]"
   ]
  },
  {
   "cell_type": "code",
   "execution_count": 98,
   "id": "2e2fd7b2",
   "metadata": {},
   "outputs": [],
   "source": [
    "corr = bh2_df.corr()"
   ]
  },
  {
   "cell_type": "code",
   "execution_count": 99,
   "id": "908175b1",
   "metadata": {
    "scrolled": true
   },
   "outputs": [
    {
     "data": {
      "text/html": [
       "<style type=\"text/css\">\n",
       "#T_d31b9_row0_col0, #T_d31b9_row0_col1, #T_d31b9_row0_col2, #T_d31b9_row0_col3, #T_d31b9_row0_col4, #T_d31b9_row0_col5, #T_d31b9_row0_col6, #T_d31b9_row0_col7, #T_d31b9_row0_col8, #T_d31b9_row0_col9, #T_d31b9_row0_col10, #T_d31b9_row0_col11, #T_d31b9_row1_col0, #T_d31b9_row1_col1, #T_d31b9_row1_col2, #T_d31b9_row1_col3, #T_d31b9_row1_col4, #T_d31b9_row1_col5, #T_d31b9_row1_col6, #T_d31b9_row1_col7, #T_d31b9_row1_col8, #T_d31b9_row1_col9, #T_d31b9_row1_col10, #T_d31b9_row1_col11, #T_d31b9_row2_col0, #T_d31b9_row2_col1, #T_d31b9_row2_col2, #T_d31b9_row2_col3, #T_d31b9_row2_col5, #T_d31b9_row2_col6, #T_d31b9_row2_col8, #T_d31b9_row2_col10, #T_d31b9_row2_col11, #T_d31b9_row3_col0, #T_d31b9_row3_col1, #T_d31b9_row3_col2, #T_d31b9_row3_col3, #T_d31b9_row3_col4, #T_d31b9_row3_col5, #T_d31b9_row3_col6, #T_d31b9_row3_col7, #T_d31b9_row3_col8, #T_d31b9_row3_col9, #T_d31b9_row3_col10, #T_d31b9_row3_col11, #T_d31b9_row4_col0, #T_d31b9_row4_col1, #T_d31b9_row4_col3, #T_d31b9_row4_col4, #T_d31b9_row4_col5, #T_d31b9_row4_col8, #T_d31b9_row4_col9, #T_d31b9_row4_col10, #T_d31b9_row4_col11, #T_d31b9_row5_col0, #T_d31b9_row5_col1, #T_d31b9_row5_col2, #T_d31b9_row5_col3, #T_d31b9_row5_col4, #T_d31b9_row5_col5, #T_d31b9_row5_col6, #T_d31b9_row5_col7, #T_d31b9_row5_col8, #T_d31b9_row5_col9, #T_d31b9_row5_col10, #T_d31b9_row5_col11, #T_d31b9_row6_col0, #T_d31b9_row6_col1, #T_d31b9_row6_col2, #T_d31b9_row6_col3, #T_d31b9_row6_col5, #T_d31b9_row6_col6, #T_d31b9_row6_col8, #T_d31b9_row6_col9, #T_d31b9_row6_col10, #T_d31b9_row6_col11, #T_d31b9_row7_col0, #T_d31b9_row7_col1, #T_d31b9_row7_col3, #T_d31b9_row7_col5, #T_d31b9_row7_col7, #T_d31b9_row7_col8, #T_d31b9_row7_col9, #T_d31b9_row7_col10, #T_d31b9_row7_col11, #T_d31b9_row8_col0, #T_d31b9_row8_col1, #T_d31b9_row8_col2, #T_d31b9_row8_col3, #T_d31b9_row8_col4, #T_d31b9_row8_col5, #T_d31b9_row8_col6, #T_d31b9_row8_col7, #T_d31b9_row8_col8, #T_d31b9_row8_col10, #T_d31b9_row8_col11, #T_d31b9_row9_col0, #T_d31b9_row9_col1, #T_d31b9_row9_col3, #T_d31b9_row9_col4, #T_d31b9_row9_col5, #T_d31b9_row9_col6, #T_d31b9_row9_col7, #T_d31b9_row9_col9, #T_d31b9_row9_col10, #T_d31b9_row9_col11, #T_d31b9_row10_col0, #T_d31b9_row10_col1, #T_d31b9_row10_col2, #T_d31b9_row10_col3, #T_d31b9_row10_col4, #T_d31b9_row10_col5, #T_d31b9_row10_col6, #T_d31b9_row10_col7, #T_d31b9_row10_col8, #T_d31b9_row10_col9, #T_d31b9_row10_col10, #T_d31b9_row10_col11, #T_d31b9_row11_col0, #T_d31b9_row11_col1, #T_d31b9_row11_col2, #T_d31b9_row11_col3, #T_d31b9_row11_col4, #T_d31b9_row11_col5, #T_d31b9_row11_col6, #T_d31b9_row11_col7, #T_d31b9_row11_col8, #T_d31b9_row11_col9, #T_d31b9_row11_col10, #T_d31b9_row11_col11 {\n",
       "  background-color: ;\n",
       "}\n",
       "#T_d31b9_row2_col4, #T_d31b9_row2_col7, #T_d31b9_row2_col9, #T_d31b9_row4_col2, #T_d31b9_row4_col6, #T_d31b9_row4_col7, #T_d31b9_row6_col4, #T_d31b9_row6_col7, #T_d31b9_row7_col2, #T_d31b9_row7_col4, #T_d31b9_row7_col6, #T_d31b9_row8_col9, #T_d31b9_row9_col2, #T_d31b9_row9_col8 {\n",
       "  background-color: yellow;\n",
       "}\n",
       "</style>\n",
       "<table id=\"T_d31b9\">\n",
       "  <thead>\n",
       "    <tr>\n",
       "      <th class=\"blank level0\" >&nbsp;</th>\n",
       "      <th id=\"T_d31b9_level0_col0\" class=\"col_heading level0 col0\" >CRIM</th>\n",
       "      <th id=\"T_d31b9_level0_col1\" class=\"col_heading level0 col1\" >ZN</th>\n",
       "      <th id=\"T_d31b9_level0_col2\" class=\"col_heading level0 col2\" >INDUS</th>\n",
       "      <th id=\"T_d31b9_level0_col3\" class=\"col_heading level0 col3\" >CHAS</th>\n",
       "      <th id=\"T_d31b9_level0_col4\" class=\"col_heading level0 col4\" >NOX</th>\n",
       "      <th id=\"T_d31b9_level0_col5\" class=\"col_heading level0 col5\" >RM</th>\n",
       "      <th id=\"T_d31b9_level0_col6\" class=\"col_heading level0 col6\" >AGE</th>\n",
       "      <th id=\"T_d31b9_level0_col7\" class=\"col_heading level0 col7\" >DIS</th>\n",
       "      <th id=\"T_d31b9_level0_col8\" class=\"col_heading level0 col8\" >RAD</th>\n",
       "      <th id=\"T_d31b9_level0_col9\" class=\"col_heading level0 col9\" >TAX</th>\n",
       "      <th id=\"T_d31b9_level0_col10\" class=\"col_heading level0 col10\" >PTRATIO</th>\n",
       "      <th id=\"T_d31b9_level0_col11\" class=\"col_heading level0 col11\" >LSTAT</th>\n",
       "    </tr>\n",
       "  </thead>\n",
       "  <tbody>\n",
       "    <tr>\n",
       "      <th id=\"T_d31b9_level0_row0\" class=\"row_heading level0 row0\" >CRIM</th>\n",
       "      <td id=\"T_d31b9_row0_col0\" class=\"data row0 col0\" >1.000000</td>\n",
       "      <td id=\"T_d31b9_row0_col1\" class=\"data row0 col1\" >-0.200469</td>\n",
       "      <td id=\"T_d31b9_row0_col2\" class=\"data row0 col2\" >0.406583</td>\n",
       "      <td id=\"T_d31b9_row0_col3\" class=\"data row0 col3\" >-0.055892</td>\n",
       "      <td id=\"T_d31b9_row0_col4\" class=\"data row0 col4\" >0.420972</td>\n",
       "      <td id=\"T_d31b9_row0_col5\" class=\"data row0 col5\" >-0.219247</td>\n",
       "      <td id=\"T_d31b9_row0_col6\" class=\"data row0 col6\" >0.352734</td>\n",
       "      <td id=\"T_d31b9_row0_col7\" class=\"data row0 col7\" >-0.379670</td>\n",
       "      <td id=\"T_d31b9_row0_col8\" class=\"data row0 col8\" >0.625505</td>\n",
       "      <td id=\"T_d31b9_row0_col9\" class=\"data row0 col9\" >0.582764</td>\n",
       "      <td id=\"T_d31b9_row0_col10\" class=\"data row0 col10\" >0.289946</td>\n",
       "      <td id=\"T_d31b9_row0_col11\" class=\"data row0 col11\" >0.455621</td>\n",
       "    </tr>\n",
       "    <tr>\n",
       "      <th id=\"T_d31b9_level0_row1\" class=\"row_heading level0 row1\" >ZN</th>\n",
       "      <td id=\"T_d31b9_row1_col0\" class=\"data row1 col0\" >-0.200469</td>\n",
       "      <td id=\"T_d31b9_row1_col1\" class=\"data row1 col1\" >1.000000</td>\n",
       "      <td id=\"T_d31b9_row1_col2\" class=\"data row1 col2\" >-0.533828</td>\n",
       "      <td id=\"T_d31b9_row1_col3\" class=\"data row1 col3\" >-0.042697</td>\n",
       "      <td id=\"T_d31b9_row1_col4\" class=\"data row1 col4\" >-0.516604</td>\n",
       "      <td id=\"T_d31b9_row1_col5\" class=\"data row1 col5\" >0.311991</td>\n",
       "      <td id=\"T_d31b9_row1_col6\" class=\"data row1 col6\" >-0.569537</td>\n",
       "      <td id=\"T_d31b9_row1_col7\" class=\"data row1 col7\" >0.664408</td>\n",
       "      <td id=\"T_d31b9_row1_col8\" class=\"data row1 col8\" >-0.311948</td>\n",
       "      <td id=\"T_d31b9_row1_col9\" class=\"data row1 col9\" >-0.314563</td>\n",
       "      <td id=\"T_d31b9_row1_col10\" class=\"data row1 col10\" >-0.391679</td>\n",
       "      <td id=\"T_d31b9_row1_col11\" class=\"data row1 col11\" >-0.412995</td>\n",
       "    </tr>\n",
       "    <tr>\n",
       "      <th id=\"T_d31b9_level0_row2\" class=\"row_heading level0 row2\" >INDUS</th>\n",
       "      <td id=\"T_d31b9_row2_col0\" class=\"data row2 col0\" >0.406583</td>\n",
       "      <td id=\"T_d31b9_row2_col1\" class=\"data row2 col1\" >-0.533828</td>\n",
       "      <td id=\"T_d31b9_row2_col2\" class=\"data row2 col2\" >1.000000</td>\n",
       "      <td id=\"T_d31b9_row2_col3\" class=\"data row2 col3\" >0.062938</td>\n",
       "      <td id=\"T_d31b9_row2_col4\" class=\"data row2 col4\" >0.763651</td>\n",
       "      <td id=\"T_d31b9_row2_col5\" class=\"data row2 col5\" >-0.391676</td>\n",
       "      <td id=\"T_d31b9_row2_col6\" class=\"data row2 col6\" >0.644779</td>\n",
       "      <td id=\"T_d31b9_row2_col7\" class=\"data row2 col7\" >-0.708027</td>\n",
       "      <td id=\"T_d31b9_row2_col8\" class=\"data row2 col8\" >0.595129</td>\n",
       "      <td id=\"T_d31b9_row2_col9\" class=\"data row2 col9\" >0.720760</td>\n",
       "      <td id=\"T_d31b9_row2_col10\" class=\"data row2 col10\" >0.383248</td>\n",
       "      <td id=\"T_d31b9_row2_col11\" class=\"data row2 col11\" >0.603800</td>\n",
       "    </tr>\n",
       "    <tr>\n",
       "      <th id=\"T_d31b9_level0_row3\" class=\"row_heading level0 row3\" >CHAS</th>\n",
       "      <td id=\"T_d31b9_row3_col0\" class=\"data row3 col0\" >-0.055892</td>\n",
       "      <td id=\"T_d31b9_row3_col1\" class=\"data row3 col1\" >-0.042697</td>\n",
       "      <td id=\"T_d31b9_row3_col2\" class=\"data row3 col2\" >0.062938</td>\n",
       "      <td id=\"T_d31b9_row3_col3\" class=\"data row3 col3\" >1.000000</td>\n",
       "      <td id=\"T_d31b9_row3_col4\" class=\"data row3 col4\" >0.091203</td>\n",
       "      <td id=\"T_d31b9_row3_col5\" class=\"data row3 col5\" >0.091251</td>\n",
       "      <td id=\"T_d31b9_row3_col6\" class=\"data row3 col6\" >0.086518</td>\n",
       "      <td id=\"T_d31b9_row3_col7\" class=\"data row3 col7\" >-0.099176</td>\n",
       "      <td id=\"T_d31b9_row3_col8\" class=\"data row3 col8\" >-0.007368</td>\n",
       "      <td id=\"T_d31b9_row3_col9\" class=\"data row3 col9\" >-0.035587</td>\n",
       "      <td id=\"T_d31b9_row3_col10\" class=\"data row3 col10\" >-0.121515</td>\n",
       "      <td id=\"T_d31b9_row3_col11\" class=\"data row3 col11\" >-0.053929</td>\n",
       "    </tr>\n",
       "    <tr>\n",
       "      <th id=\"T_d31b9_level0_row4\" class=\"row_heading level0 row4\" >NOX</th>\n",
       "      <td id=\"T_d31b9_row4_col0\" class=\"data row4 col0\" >0.420972</td>\n",
       "      <td id=\"T_d31b9_row4_col1\" class=\"data row4 col1\" >-0.516604</td>\n",
       "      <td id=\"T_d31b9_row4_col2\" class=\"data row4 col2\" >0.763651</td>\n",
       "      <td id=\"T_d31b9_row4_col3\" class=\"data row4 col3\" >0.091203</td>\n",
       "      <td id=\"T_d31b9_row4_col4\" class=\"data row4 col4\" >1.000000</td>\n",
       "      <td id=\"T_d31b9_row4_col5\" class=\"data row4 col5\" >-0.302188</td>\n",
       "      <td id=\"T_d31b9_row4_col6\" class=\"data row4 col6\" >0.731470</td>\n",
       "      <td id=\"T_d31b9_row4_col7\" class=\"data row4 col7\" >-0.769230</td>\n",
       "      <td id=\"T_d31b9_row4_col8\" class=\"data row4 col8\" >0.611441</td>\n",
       "      <td id=\"T_d31b9_row4_col9\" class=\"data row4 col9\" >0.668023</td>\n",
       "      <td id=\"T_d31b9_row4_col10\" class=\"data row4 col10\" >0.188933</td>\n",
       "      <td id=\"T_d31b9_row4_col11\" class=\"data row4 col11\" >0.590879</td>\n",
       "    </tr>\n",
       "    <tr>\n",
       "      <th id=\"T_d31b9_level0_row5\" class=\"row_heading level0 row5\" >RM</th>\n",
       "      <td id=\"T_d31b9_row5_col0\" class=\"data row5 col0\" >-0.219247</td>\n",
       "      <td id=\"T_d31b9_row5_col1\" class=\"data row5 col1\" >0.311991</td>\n",
       "      <td id=\"T_d31b9_row5_col2\" class=\"data row5 col2\" >-0.391676</td>\n",
       "      <td id=\"T_d31b9_row5_col3\" class=\"data row5 col3\" >0.091251</td>\n",
       "      <td id=\"T_d31b9_row5_col4\" class=\"data row5 col4\" >-0.302188</td>\n",
       "      <td id=\"T_d31b9_row5_col5\" class=\"data row5 col5\" >1.000000</td>\n",
       "      <td id=\"T_d31b9_row5_col6\" class=\"data row5 col6\" >-0.240265</td>\n",
       "      <td id=\"T_d31b9_row5_col7\" class=\"data row5 col7\" >0.205246</td>\n",
       "      <td id=\"T_d31b9_row5_col8\" class=\"data row5 col8\" >-0.209847</td>\n",
       "      <td id=\"T_d31b9_row5_col9\" class=\"data row5 col9\" >-0.292048</td>\n",
       "      <td id=\"T_d31b9_row5_col10\" class=\"data row5 col10\" >-0.355501</td>\n",
       "      <td id=\"T_d31b9_row5_col11\" class=\"data row5 col11\" >-0.613808</td>\n",
       "    </tr>\n",
       "    <tr>\n",
       "      <th id=\"T_d31b9_level0_row6\" class=\"row_heading level0 row6\" >AGE</th>\n",
       "      <td id=\"T_d31b9_row6_col0\" class=\"data row6 col0\" >0.352734</td>\n",
       "      <td id=\"T_d31b9_row6_col1\" class=\"data row6 col1\" >-0.569537</td>\n",
       "      <td id=\"T_d31b9_row6_col2\" class=\"data row6 col2\" >0.644779</td>\n",
       "      <td id=\"T_d31b9_row6_col3\" class=\"data row6 col3\" >0.086518</td>\n",
       "      <td id=\"T_d31b9_row6_col4\" class=\"data row6 col4\" >0.731470</td>\n",
       "      <td id=\"T_d31b9_row6_col5\" class=\"data row6 col5\" >-0.240265</td>\n",
       "      <td id=\"T_d31b9_row6_col6\" class=\"data row6 col6\" >1.000000</td>\n",
       "      <td id=\"T_d31b9_row6_col7\" class=\"data row6 col7\" >-0.747881</td>\n",
       "      <td id=\"T_d31b9_row6_col8\" class=\"data row6 col8\" >0.456022</td>\n",
       "      <td id=\"T_d31b9_row6_col9\" class=\"data row6 col9\" >0.506456</td>\n",
       "      <td id=\"T_d31b9_row6_col10\" class=\"data row6 col10\" >0.261515</td>\n",
       "      <td id=\"T_d31b9_row6_col11\" class=\"data row6 col11\" >0.602339</td>\n",
       "    </tr>\n",
       "    <tr>\n",
       "      <th id=\"T_d31b9_level0_row7\" class=\"row_heading level0 row7\" >DIS</th>\n",
       "      <td id=\"T_d31b9_row7_col0\" class=\"data row7 col0\" >-0.379670</td>\n",
       "      <td id=\"T_d31b9_row7_col1\" class=\"data row7 col1\" >0.664408</td>\n",
       "      <td id=\"T_d31b9_row7_col2\" class=\"data row7 col2\" >-0.708027</td>\n",
       "      <td id=\"T_d31b9_row7_col3\" class=\"data row7 col3\" >-0.099176</td>\n",
       "      <td id=\"T_d31b9_row7_col4\" class=\"data row7 col4\" >-0.769230</td>\n",
       "      <td id=\"T_d31b9_row7_col5\" class=\"data row7 col5\" >0.205246</td>\n",
       "      <td id=\"T_d31b9_row7_col6\" class=\"data row7 col6\" >-0.747881</td>\n",
       "      <td id=\"T_d31b9_row7_col7\" class=\"data row7 col7\" >1.000000</td>\n",
       "      <td id=\"T_d31b9_row7_col8\" class=\"data row7 col8\" >-0.494588</td>\n",
       "      <td id=\"T_d31b9_row7_col9\" class=\"data row7 col9\" >-0.534432</td>\n",
       "      <td id=\"T_d31b9_row7_col10\" class=\"data row7 col10\" >-0.232471</td>\n",
       "      <td id=\"T_d31b9_row7_col11\" class=\"data row7 col11\" >-0.496996</td>\n",
       "    </tr>\n",
       "    <tr>\n",
       "      <th id=\"T_d31b9_level0_row8\" class=\"row_heading level0 row8\" >RAD</th>\n",
       "      <td id=\"T_d31b9_row8_col0\" class=\"data row8 col0\" >0.625505</td>\n",
       "      <td id=\"T_d31b9_row8_col1\" class=\"data row8 col1\" >-0.311948</td>\n",
       "      <td id=\"T_d31b9_row8_col2\" class=\"data row8 col2\" >0.595129</td>\n",
       "      <td id=\"T_d31b9_row8_col3\" class=\"data row8 col3\" >-0.007368</td>\n",
       "      <td id=\"T_d31b9_row8_col4\" class=\"data row8 col4\" >0.611441</td>\n",
       "      <td id=\"T_d31b9_row8_col5\" class=\"data row8 col5\" >-0.209847</td>\n",
       "      <td id=\"T_d31b9_row8_col6\" class=\"data row8 col6\" >0.456022</td>\n",
       "      <td id=\"T_d31b9_row8_col7\" class=\"data row8 col7\" >-0.494588</td>\n",
       "      <td id=\"T_d31b9_row8_col8\" class=\"data row8 col8\" >1.000000</td>\n",
       "      <td id=\"T_d31b9_row8_col9\" class=\"data row8 col9\" >0.910228</td>\n",
       "      <td id=\"T_d31b9_row8_col10\" class=\"data row8 col10\" >0.464741</td>\n",
       "      <td id=\"T_d31b9_row8_col11\" class=\"data row8 col11\" >0.488676</td>\n",
       "    </tr>\n",
       "    <tr>\n",
       "      <th id=\"T_d31b9_level0_row9\" class=\"row_heading level0 row9\" >TAX</th>\n",
       "      <td id=\"T_d31b9_row9_col0\" class=\"data row9 col0\" >0.582764</td>\n",
       "      <td id=\"T_d31b9_row9_col1\" class=\"data row9 col1\" >-0.314563</td>\n",
       "      <td id=\"T_d31b9_row9_col2\" class=\"data row9 col2\" >0.720760</td>\n",
       "      <td id=\"T_d31b9_row9_col3\" class=\"data row9 col3\" >-0.035587</td>\n",
       "      <td id=\"T_d31b9_row9_col4\" class=\"data row9 col4\" >0.668023</td>\n",
       "      <td id=\"T_d31b9_row9_col5\" class=\"data row9 col5\" >-0.292048</td>\n",
       "      <td id=\"T_d31b9_row9_col6\" class=\"data row9 col6\" >0.506456</td>\n",
       "      <td id=\"T_d31b9_row9_col7\" class=\"data row9 col7\" >-0.534432</td>\n",
       "      <td id=\"T_d31b9_row9_col8\" class=\"data row9 col8\" >0.910228</td>\n",
       "      <td id=\"T_d31b9_row9_col9\" class=\"data row9 col9\" >1.000000</td>\n",
       "      <td id=\"T_d31b9_row9_col10\" class=\"data row9 col10\" >0.460853</td>\n",
       "      <td id=\"T_d31b9_row9_col11\" class=\"data row9 col11\" >0.543993</td>\n",
       "    </tr>\n",
       "    <tr>\n",
       "      <th id=\"T_d31b9_level0_row10\" class=\"row_heading level0 row10\" >PTRATIO</th>\n",
       "      <td id=\"T_d31b9_row10_col0\" class=\"data row10 col0\" >0.289946</td>\n",
       "      <td id=\"T_d31b9_row10_col1\" class=\"data row10 col1\" >-0.391679</td>\n",
       "      <td id=\"T_d31b9_row10_col2\" class=\"data row10 col2\" >0.383248</td>\n",
       "      <td id=\"T_d31b9_row10_col3\" class=\"data row10 col3\" >-0.121515</td>\n",
       "      <td id=\"T_d31b9_row10_col4\" class=\"data row10 col4\" >0.188933</td>\n",
       "      <td id=\"T_d31b9_row10_col5\" class=\"data row10 col5\" >-0.355501</td>\n",
       "      <td id=\"T_d31b9_row10_col6\" class=\"data row10 col6\" >0.261515</td>\n",
       "      <td id=\"T_d31b9_row10_col7\" class=\"data row10 col7\" >-0.232471</td>\n",
       "      <td id=\"T_d31b9_row10_col8\" class=\"data row10 col8\" >0.464741</td>\n",
       "      <td id=\"T_d31b9_row10_col9\" class=\"data row10 col9\" >0.460853</td>\n",
       "      <td id=\"T_d31b9_row10_col10\" class=\"data row10 col10\" >1.000000</td>\n",
       "      <td id=\"T_d31b9_row10_col11\" class=\"data row10 col11\" >0.374044</td>\n",
       "    </tr>\n",
       "    <tr>\n",
       "      <th id=\"T_d31b9_level0_row11\" class=\"row_heading level0 row11\" >LSTAT</th>\n",
       "      <td id=\"T_d31b9_row11_col0\" class=\"data row11 col0\" >0.455621</td>\n",
       "      <td id=\"T_d31b9_row11_col1\" class=\"data row11 col1\" >-0.412995</td>\n",
       "      <td id=\"T_d31b9_row11_col2\" class=\"data row11 col2\" >0.603800</td>\n",
       "      <td id=\"T_d31b9_row11_col3\" class=\"data row11 col3\" >-0.053929</td>\n",
       "      <td id=\"T_d31b9_row11_col4\" class=\"data row11 col4\" >0.590879</td>\n",
       "      <td id=\"T_d31b9_row11_col5\" class=\"data row11 col5\" >-0.613808</td>\n",
       "      <td id=\"T_d31b9_row11_col6\" class=\"data row11 col6\" >0.602339</td>\n",
       "      <td id=\"T_d31b9_row11_col7\" class=\"data row11 col7\" >-0.496996</td>\n",
       "      <td id=\"T_d31b9_row11_col8\" class=\"data row11 col8\" >0.488676</td>\n",
       "      <td id=\"T_d31b9_row11_col9\" class=\"data row11 col9\" >0.543993</td>\n",
       "      <td id=\"T_d31b9_row11_col10\" class=\"data row11 col10\" >0.374044</td>\n",
       "      <td id=\"T_d31b9_row11_col11\" class=\"data row11 col11\" >1.000000</td>\n",
       "    </tr>\n",
       "  </tbody>\n",
       "</table>\n"
      ],
      "text/plain": [
       "<pandas.io.formats.style.Styler at 0x1d42354ca30>"
      ]
     },
     "execution_count": 99,
     "metadata": {},
     "output_type": "execute_result"
    }
   ],
   "source": [
    "def highlight_cells(val):\n",
    "    color = 'yellow' if (val > 0.7 and val != 1) or val < -0.7 else ''\n",
    "    return 'background-color: {}'.format(color)\n",
    "\n",
    "corr.style.applymap(highlight_cells)"
   ]
  },
  {
   "cell_type": "code",
   "execution_count": 100,
   "id": "f60b1e1b",
   "metadata": {},
   "outputs": [
    {
     "data": {
      "image/png": "[encoded data removed]",
      "text/plain": [
       "<Figure size 720x720 with 2 Axes>"
      ]
     },
     "metadata": {
      "needs_background": "light"
     },
     "output_type": "display_data"
    }
   ],
   "source": [
    "fig, ax = plt.subplots(figsize=(10,10))\n",
    "sns.heatmap(corr, annot=True, cmap='coolwarm', fmt='.2f', ax = ax)\n",
    "plt.title('Correlation Heatmap with Coefficients')\n",
    "plt.show()"
   ]
  },
  {
   "cell_type": "markdown",
   "id": "05c916de",
   "metadata": {},
   "source": [
    "From the correlation table and heatmap we can see that we have 4 couples of variables with a strong positive correlation (>0.7) and 3 with a strong negative correlation (<-0.7). Based on this table, the variables that could be removed are: DIS (because it has a high correlation with 3 other variables and doesn't add much information to tour analysis), TAX (since it's highly correlated with 2 other variables, and AGE (since it's higlhy correlated with NOX)."
   ]
  },
  {
   "cell_type": "markdown",
   "id": "4b21bfd2",
   "metadata": {},
   "source": [
    "d - III)"
   ]
  },
  {
   "cell_type": "code",
   "execution_count": 101,
   "id": "1071728e",
   "metadata": {},
   "outputs": [],
   "source": [
    "predictors = ['CRIM','ZN', 'INDUS','CHAS', 'NOX', 'RM', 'AGE', 'DIS', 'RAD', 'TAX', 'PTRATIO', 'LSTAT']\n",
    "X = bh_df[predictors]\n",
    "y = bh_df[outcome]\n",
    "train_X, valid_X, train_y, valid_y = train_test_split(X, y, test_size=0.4, random_state=1)"
   ]
  },
  {
   "cell_type": "code",
   "execution_count": 102,
   "id": "d4b77c16",
   "metadata": {},
   "outputs": [
    {
     "name": "stdout",
     "output_type": "stream",
     "text": [
      "Variables: CRIM, ZN, INDUS, CHAS, NOX, RM, AGE, DIS, RAD, TAX, PTRATIO, LSTAT\n",
      "Start: score=1807.23\n",
      "Step: score=1805.30, remove AGE\n",
      "Step: score=1803.57, remove INDUS\n",
      "Step: score=1803.57, remove None\n",
      "['CRIM', 'ZN', 'CHAS', 'NOX', 'RM', 'DIS', 'RAD', 'TAX', 'PTRATIO', 'LSTAT']\n",
      "\n",
      "Regression statistics\n",
      "\n",
      "                      Mean Error (ME) : -0.0393\n",
      "       Root Mean Squared Error (RMSE) : 5.0771\n",
      "            Mean Absolute Error (MAE) : 3.5746\n",
      "          Mean Percentage Error (MPE) : -5.1561\n",
      "Mean Absolute Percentage Error (MAPE) : 16.9733\n"
     ]
    }
   ],
   "source": [
    "#backward elimination\n",
    "\n",
    "def train_model(variables):\n",
    "    model = LinearRegression()\n",
    "    model.fit(train_X[variables], train_y)\n",
    "    return model\n",
    "\n",
    "def score_model(model, variables):\n",
    "    return AIC_score(train_y, model.predict(train_X[variables]), model)\n",
    "\n",
    "allVariables = train_X.columns\n",
    "best_model, best_variables = backward_elimination(allVariables, train_model, score_model, verbose=True)\n",
    "\n",
    "print(best_variables)\n",
    "\n",
    "regressionSummary(valid_y, best_model.predict(valid_X[best_variables]))"
   ]
  },
  {
   "cell_type": "code",
   "execution_count": 103,
   "id": "6e317b79",
   "metadata": {},
   "outputs": [
    {
     "data": {
      "image/png": "[encoded data removed]",
      "text/plain": [
       "<Figure size 432x288 with 1 Axes>"
      ]
     },
     "metadata": {
      "needs_background": "light"
     },
     "output_type": "display_data"
    }
   ],
   "source": [
    "#backward elimination validation errors histogram\n",
    "\n",
    "bh_df_pred = best_model.predict(valid_X[best_variables])\n",
    "all_residuals = valid_y - bh_df_pred\n",
    "\n",
    "all_residuals.plot(kind='hist')\n",
    "plt.show()"
   ]
  },
  {
   "cell_type": "code",
   "execution_count": 104,
   "id": "d1a3ac86",
   "metadata": {},
   "outputs": [
    {
     "name": "stdout",
     "output_type": "stream",
     "text": [
      "Variables: CRIM, ZN, INDUS, CHAS, NOX, RM, AGE, DIS, RAD, TAX, PTRATIO, LSTAT\n",
      "Start: score=2191.75, constant\n",
      "Step: score=1934.91, add LSTAT\n",
      "Step: score=1874.18, add RM\n",
      "Step: score=1842.54, add PTRATIO\n",
      "Step: score=1837.69, add CHAS\n",
      "Step: score=1835.00, add NOX\n",
      "Step: score=1817.90, add DIS\n",
      "Step: score=1811.82, add ZN\n",
      "Step: score=1810.16, add CRIM\n",
      "Step: score=1808.01, add RAD\n",
      "Step: score=1803.57, add TAX\n",
      "Step: score=1803.57, add None\n",
      "['LSTAT', 'RM', 'PTRATIO', 'CHAS', 'NOX', 'DIS', 'ZN', 'CRIM', 'RAD', 'TAX']\n",
      "\n",
      "Regression statistics\n",
      "\n",
      "                      Mean Error (ME) : -0.0393\n",
      "       Root Mean Squared Error (RMSE) : 5.0771\n",
      "            Mean Absolute Error (MAE) : 3.5746\n",
      "          Mean Percentage Error (MPE) : -5.1561\n",
      "Mean Absolute Percentage Error (MAPE) : 16.9733\n"
     ]
    }
   ],
   "source": [
    "#forward elimination\n",
    "\n",
    "def train_model(variables):\n",
    "    if len(variables) == 0:\n",
    "        return None\n",
    "    model = LinearRegression()\n",
    "    model.fit(train_X[variables], train_y)\n",
    "    return model\n",
    "\n",
    "def score_model(model, variables):\n",
    "    if len(variables) == 0:\n",
    "        return AIC_score(train_y, [train_y.mean()] * len(train_y), model, df=1)\n",
    "    return AIC_score(train_y, model.predict(train_X[variables]), model)\n",
    "\n",
    "best_model, best_variables = forward_selection(train_X.columns, train_model, score_model, verbose=True)\n",
    "\n",
    "print(best_variables)\n",
    "\n",
    "regressionSummary(valid_y, best_model.predict(valid_X[best_variables]))"
   ]
  },
  {
   "cell_type": "code",
   "execution_count": 105,
   "id": "49d27f09",
   "metadata": {},
   "outputs": [
    {
     "data": {
      "image/png": "[encoded data removed]",
      "text/plain": [
       "<Figure size 432x288 with 1 Axes>"
      ]
     },
     "metadata": {
      "needs_background": "light"
     },
     "output_type": "display_data"
    }
   ],
   "source": [
    "#forward elimination validation errors histogram\n",
    "\n",
    "bh_df_pred = best_model.predict(valid_X[best_variables])\n",
    "all_residuals = valid_y - bh_df_pred\n",
    "\n",
    "all_residuals.plot(kind='hist')\n",
    "plt.show()"
   ]
  },
  {
   "cell_type": "code",
   "execution_count": 106,
   "id": "e4bdbdaf",
   "metadata": {},
   "outputs": [
    {
     "name": "stdout",
     "output_type": "stream",
     "text": [
      "Variables: CRIM, ZN, INDUS, CHAS, NOX, RM, AGE, DIS, RAD, TAX, PTRATIO, LSTAT\n",
      "Start: score=2191.75, constant\n",
      "Step: score=1934.91, add LSTAT\n",
      "Step: score=1874.18, add RM\n",
      "Step: score=1842.54, add PTRATIO\n",
      "Step: score=1837.69, add CHAS\n",
      "Step: score=1835.00, add NOX\n",
      "Step: score=1817.90, add DIS\n",
      "Step: score=1811.82, add ZN\n",
      "Step: score=1810.16, add CRIM\n",
      "Step: score=1808.01, add RAD\n",
      "Step: score=1803.57, add TAX\n",
      "Step: score=1803.57, unchanged None\n",
      "['LSTAT', 'RM', 'PTRATIO', 'CHAS', 'NOX', 'DIS', 'ZN', 'CRIM', 'RAD', 'TAX']\n",
      "\n",
      "Regression statistics\n",
      "\n",
      "                      Mean Error (ME) : -0.0393\n",
      "       Root Mean Squared Error (RMSE) : 5.0771\n",
      "            Mean Absolute Error (MAE) : 3.5746\n",
      "          Mean Percentage Error (MPE) : -5.1561\n",
      "Mean Absolute Percentage Error (MAPE) : 16.9733\n"
     ]
    }
   ],
   "source": [
    "#stepwise elimination\n",
    "\n",
    "def train_model(variables):\n",
    "    if len(variables) == 0:\n",
    "        return None\n",
    "    model = LinearRegression()\n",
    "    model.fit(train_X[variables], train_y)\n",
    "    return model\n",
    "\n",
    "def score_model(model, variables):\n",
    "    if len(variables) == 0:\n",
    "        return AIC_score(train_y, [train_y.mean()] * len(train_y), model, df=1)\n",
    "    return AIC_score(train_y, model.predict(train_X[variables]), model)\n",
    "\n",
    "best_model, best_variables = stepwise_selection(train_X.columns, train_model, score_model, verbose=True)\n",
    "\n",
    "print(best_variables)\n",
    "\n",
    "regressionSummary(valid_y, best_model.predict(valid_X[best_variables]))"
   ]
  },
  {
   "cell_type": "code",
   "execution_count": 107,
   "id": "915de7f3",
   "metadata": {},
   "outputs": [
    {
     "data": {
      "image/png": "[encoded data removed]",
      "text/plain": [
       "<Figure size 432x288 with 1 Axes>"
      ]
     },
     "metadata": {
      "needs_background": "light"
     },
     "output_type": "display_data"
    }
   ],
   "source": [
    "#stepwise elimination validation errors histogram\n",
    "\n",
    "bh_df_pred = best_model.predict(valid_X[best_variables])\n",
    "all_residuals = valid_y - bh_df_pred\n",
    "\n",
    "all_residuals.plot(kind='hist')\n",
    "plt.show()\n"
   ]
  },
  {
   "cell_type": "markdown",
   "id": "897e076d",
   "metadata": {},
   "source": [
    "From the regression summary of each of the three models (created with the three different subset selection algorithms, which dropped the same two variables - AGE and INDUS), we can see that RMSE, MAPE, and ME are the same for all the models, consequently all the three histograms show the same distribution and values, from which we can individuate the presence of one or a few upper outliers which will need special attention and further investigation. In this case, we can conclude that all the three models have the same performance in predicting the median house price in the area of Boston and there is no best model between them. \n",
    "Overall, the Mean Error of our models, -0.039, indicates that our model is on average underpredicting the median house price; the MAPE of our models, 16.97, indicates that the accuracy of the models is low but still acceptable (it's usually considered low but acceptable between 10.00 and 25.00); the RMSE is 5.08 (x1000$)."
   ]
  }
 ],
 "metadata": {
  "kernelspec": {
   "display_name": "Python 3 (ipykernel)",
   "language": "python",
   "name": "python3"
  },
  "language_info": {
   "codemirror_mode": {
    "name": "ipython",
    "version": 3
   },
   "file_extension": ".py",
   "mimetype": "text/x-python",
   "name": "python",
   "nbconvert_exporter": "python",
   "pygments_lexer": "ipython3",
   "version": "3.9.12"
  }
 },
 "nbformat": 4,
 "nbformat_minor": 5
}
